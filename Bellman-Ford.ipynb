{
 "cells": [
  {
   "cell_type": "code",
   "execution_count": 15,
   "metadata": {
    "collapsed": true,
    "deletable": true,
    "editable": true
   },
   "outputs": [],
   "source": [
    "G = {'A': {'D':6, 'C':2}, 'B': {'D':8, 'A':3},\n",
    "   'C': {'D':7, 'E':5}, 'D': {'E':2}, 'E': {}}"
   ]
  },
  {
   "cell_type": "code",
   "execution_count": 18,
   "metadata": {
    "collapsed": false,
    "deletable": true,
    "editable": true
   },
   "outputs": [],
   "source": [
    "import sys\n",
    "import heapq\n",
    "### Classic Dijkstra shortest paths with min-heap\n",
    "def bellmanFord(G, source):\n",
    "    distance = {}\n",
    "    parent = {}\n",
    "    for key in G:\n",
    "        distance[key] = sys.maxint\n",
    "        parent[key] = ''\n",
    "    distance[source] = 0\n",
    "    for node in G:\n",
    "        for ver in G:\n",
    "            for edge in G[ver]:\n",
    "                if distance[edge] > distance[ver] + G[ver][edge]:\n",
    "                    distance[edge] = distance[ver] + G[ver][edge]\n",
    "                    parent[edge] = ver\n",
    "\n",
    "    print distance\n",
    "    print parent"
   ]
  },
  {
   "cell_type": "code",
   "execution_count": 19,
   "metadata": {
    "collapsed": false,
    "deletable": true,
    "editable": true
   },
   "outputs": [
    {
     "name": "stdout",
     "output_type": "stream",
     "text": [
      "{'A': 3, 'C': 5, 'B': 0, 'E': 10, 'D': 8}\n",
      "{'A': 'B', 'C': 'A', 'B': '', 'E': 'D', 'D': 'B'}\n"
     ]
    }
   ],
   "source": [
    "bellmanFord(G,'B')"
   ]
  },
  {
   "cell_type": "code",
   "execution_count": null,
   "metadata": {
    "collapsed": true,
    "deletable": true,
    "editable": true
   },
   "outputs": [],
   "source": []
  }
 ],
 "metadata": {
  "kernelspec": {
   "display_name": "Python 2",
   "language": "python",
   "name": "python2"
  },
  "language_info": {
   "codemirror_mode": {
    "name": "ipython",
    "version": 2
   },
   "file_extension": ".py",
   "mimetype": "text/x-python",
   "name": "python",
   "nbconvert_exporter": "python",
   "pygments_lexer": "ipython2",
   "version": "2.7.12"
  }
 },
 "nbformat": 4,
 "nbformat_minor": 2
}
