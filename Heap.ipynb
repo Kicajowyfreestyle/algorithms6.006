{
 "cells": [
  {
   "cell_type": "code",
   "execution_count": 1,
   "metadata": {
    "collapsed": false,
    "deletable": true,
    "editable": true
   },
   "outputs": [],
   "source": [
    "class heap:\n",
    "    array = []\n",
    "    heapSize = 0\n",
    "    def __init__(self, array):\n",
    "        self.array = array\n",
    "        self.heapSize = len(array)\n",
    "        self.buildMaxHeap()\n",
    "    def buildMaxHeap(self):\n",
    "        for x in reversed(xrange(self.heapSize/2)):\n",
    "            self.maxHeapify(x)\n",
    "    def maxHeapify(self, elem):\n",
    "        if 2*elem<self.heapSize-1:\n",
    "            if self.array[elem]<self.array[2*elem] or self.array[elem]<self.array[2*elem+1]:\n",
    "                if self.array[2*elem]>self.array[2*elem+1]:\n",
    "                    tmp = self.array[elem]\n",
    "                    self.array[elem] = self.array[2*elem]\n",
    "                    self.array[2*elem] = tmp\n",
    "                    self.maxHeapify(2*elem)\n",
    "                else:\n",
    "                    tmp = self.array[elem]\n",
    "                    self.array[elem] = self.array[2*elem+1]\n",
    "                    self.array[2*elem+1] = tmp\n",
    "                    self.maxHeapify(2*elem+1)\n",
    "    def getMax(self):\n",
    "        return self.array[0]\n",
    "    def getMaxAndRemove(self):\n",
    "        last = self.array[self.heapSize-1]\n",
    "        self.array[self.heapSize-1] = self.array[0]\n",
    "        self.array[0] = last\n",
    "        self.heapSize = self.heapSize - 1\n",
    "        self.maxHeapify(0)\n",
    "        return self.array[self.heapSize]\n",
    "    def heapSort(self):\n",
    "        heapSize = self.heapSize\n",
    "        result = []\n",
    "        while self.heapSize>0:\n",
    "            result.append(self.getMaxAndRemove())\n",
    "        self.heapSize = heapSize\n",
    "        self.buildMaxHeap()\n",
    "        return result\n",
    "    def __str__(self):\n",
    "        i=1\n",
    "        while i<self.heapSize+1:\n",
    "            for x in xrange(i, 2*i):\n",
    "                if x>self.heapSize:\n",
    "                    break\n",
    "                print self.array[x-1],\n",
    "            print\n",
    "            i = i * 2\n",
    "        return \"\""
   ]
  },
  {
   "cell_type": "code",
   "execution_count": 2,
   "metadata": {
    "collapsed": false,
    "deletable": true,
    "editable": true
   },
   "outputs": [
    {
     "name": "stdout",
     "output_type": "stream",
     "text": [
      "8\n",
      "7 5\n",
      "1 2 3\n",
      "\n"
     ]
    }
   ],
   "source": [
    "x = heap([1, 8, 2, 7, 5, 3])\n",
    "print x"
   ]
  },
  {
   "cell_type": "code",
   "execution_count": 3,
   "metadata": {
    "collapsed": false,
    "deletable": true,
    "editable": true
   },
   "outputs": [
    {
     "data": {
      "text/plain": [
       "8"
      ]
     },
     "execution_count": 3,
     "metadata": {},
     "output_type": "execute_result"
    }
   ],
   "source": [
    "x.getMax()"
   ]
  },
  {
   "cell_type": "code",
   "execution_count": 4,
   "metadata": {
    "collapsed": false,
    "deletable": true,
    "editable": true
   },
   "outputs": [
    {
     "name": "stdout",
     "output_type": "stream",
     "text": [
      "[8, 7, 5, 3, 2, 1]\n",
      "8\n",
      "7 3\n",
      "5 2 1\n",
      "\n"
     ]
    }
   ],
   "source": [
    "print x.heapSort()\n",
    "print x"
   ]
  },
  {
   "cell_type": "code",
   "execution_count": null,
   "metadata": {
    "collapsed": true,
    "deletable": true,
    "editable": true
   },
   "outputs": [],
   "source": []
  }
 ],
 "metadata": {
  "kernelspec": {
   "display_name": "Python 2",
   "language": "python",
   "name": "python2"
  },
  "language_info": {
   "codemirror_mode": {
    "name": "ipython",
    "version": 2
   },
   "file_extension": ".py",
   "mimetype": "text/x-python",
   "name": "python",
   "nbconvert_exporter": "python",
   "pygments_lexer": "ipython2",
   "version": "2.7.12"
  }
 },
 "nbformat": 4,
 "nbformat_minor": 2
}
