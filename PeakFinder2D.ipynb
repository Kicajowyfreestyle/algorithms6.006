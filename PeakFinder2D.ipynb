{
 "cells": [
  {
   "cell_type": "code",
   "execution_count": 1,
   "metadata": {
    "collapsed": false,
    "deletable": true,
    "editable": true
   },
   "outputs": [],
   "source": [
    "import numpy as np\n",
    "def peakFinder(arr, row, col):\n",
    "    if row>col:\n",
    "        return peakFinderMoreRows(arr, row)\n",
    "    else:\n",
    "        return peakFinderMoreCols(arr, col)\n",
    "        \n",
    "def peakFinderMoreCols(arr, col):\n",
    "    idOfMaxInCol = np.argmax(arr[:,col])\n",
    "    print idOfMaxInCol, col\n",
    "    if col == arr.shape[1]:\n",
    "        return idOfMaxInCol, col\n",
    "    if arr[idOfMaxInCol][col]<arr[idOfMaxInCol][col-1]:\n",
    "        return peakFinderMoreCols(arr, col/2)\n",
    "    elif arr[idOfMaxInCol][col]<arr[idOfMaxInCol][col+1]:\n",
    "        return peakFinderMoreCols(arr, col+(arr.shape[1]-col)/2)\n",
    "    else:\n",
    "        return idOfMaxInCol, col\n",
    "    \n",
    "def peakFinderMoreRows(arr, row):\n",
    "    idOfMaxInRow = np.argmax(arr[row])\n",
    "    print row, idOfMaxInRow\n",
    "    if row == arr.shape[0]:\n",
    "        return row, idOfMaxInRow\n",
    "    if arr[row][idOfMaxInRow]<arr[row-1][idOfMaxInRow]:\n",
    "        return peakFinderMoreRows(arr, row/2)\n",
    "    elif arr[row][idOfMaxInRow]<arr[row+1][idOfMaxInRow]:\n",
    "        return peakFinderMoreRows(arr, row+(arr.shape[0]-row)/2)\n",
    "    else:\n",
    "        return row, idOfMaxInRow"
   ]
  },
  {
   "cell_type": "code",
   "execution_count": 2,
   "metadata": {
    "collapsed": false,
    "deletable": true,
    "editable": true
   },
   "outputs": [],
   "source": [
    "arr = np.array([[4, 7, 6, 0],[1, 10, 1, 0],[18, 21, 20, 11]])"
   ]
  },
  {
   "cell_type": "code",
   "execution_count": 3,
   "metadata": {
    "collapsed": false,
    "deletable": true,
    "editable": true
   },
   "outputs": [
    {
     "name": "stdout",
     "output_type": "stream",
     "text": [
      "2 2\n",
      "2 1\n",
      "(2, 1)\n"
     ]
    }
   ],
   "source": [
    "print(peakFinder(arr, arr.shape[0]/2, arr.shape[1]/2))"
   ]
  }
 ],
 "metadata": {
  "kernelspec": {
   "display_name": "Python 2",
   "language": "python",
   "name": "python2"
  },
  "language_info": {
   "codemirror_mode": {
    "name": "ipython",
    "version": 2
   },
   "file_extension": ".py",
   "mimetype": "text/x-python",
   "name": "python",
   "nbconvert_exporter": "python",
   "pygments_lexer": "ipython2",
   "version": "2.7.12"
  }
 },
 "nbformat": 4,
 "nbformat_minor": 2
}
