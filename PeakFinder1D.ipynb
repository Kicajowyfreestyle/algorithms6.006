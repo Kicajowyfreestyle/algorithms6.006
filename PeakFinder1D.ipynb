{
 "cells": [
  {
   "cell_type": "code",
   "execution_count": 1,
   "metadata": {
    "collapsed": true,
    "deletable": true,
    "editable": true
   },
   "outputs": [],
   "source": [
    "### Peak finder where 1D peak is an array element which is greater or equal to it's neighbours in array"
   ]
  },
  {
   "cell_type": "code",
   "execution_count": 1,
   "metadata": {
    "collapsed": false,
    "deletable": true,
    "editable": true
   },
   "outputs": [],
   "source": [
    "def peakFinder(arr, index):\n",
    "    print arr, index\n",
    "    if index == len(arr)-1:\n",
    "        return index\n",
    "    if arr[index]<arr[index-1]:\n",
    "        return peakFinder(arr, index/2)\n",
    "    elif arr[index]<arr[index+1]:\n",
    "        return peakFinder(arr, index+(len(arr)-index)/2)\n",
    "    else:\n",
    "        return index"
   ]
  },
  {
   "cell_type": "code",
   "execution_count": 2,
   "metadata": {
    "collapsed": true,
    "deletable": true,
    "editable": true
   },
   "outputs": [],
   "source": [
    "arr = [10, 8, 3, 2, 4, 4]"
   ]
  },
  {
   "cell_type": "code",
   "execution_count": 3,
   "metadata": {
    "collapsed": false,
    "deletable": true,
    "editable": true
   },
   "outputs": [
    {
     "name": "stdout",
     "output_type": "stream",
     "text": [
      "[10, 8, 3, 2, 4, 4] 3\n",
      "[10, 8, 3, 2, 4, 4] 1\n",
      "[10, 8, 3, 2, 4, 4] 0\n",
      "0\n"
     ]
    }
   ],
   "source": [
    "print(peakFinder(arr, len(arr)/2))"
   ]
  },
  {
   "cell_type": "code",
   "execution_count": null,
   "metadata": {
    "collapsed": true,
    "deletable": true,
    "editable": true
   },
   "outputs": [],
   "source": []
  }
 ],
 "metadata": {
  "kernelspec": {
   "display_name": "Python 2",
   "language": "python",
   "name": "python2"
  },
  "language_info": {
   "codemirror_mode": {
    "name": "ipython",
    "version": 2
   },
   "file_extension": ".py",
   "mimetype": "text/x-python",
   "name": "python",
   "nbconvert_exporter": "python",
   "pygments_lexer": "ipython2",
   "version": "2.7.12"
  }
 },
 "nbformat": 4,
 "nbformat_minor": 2
}
