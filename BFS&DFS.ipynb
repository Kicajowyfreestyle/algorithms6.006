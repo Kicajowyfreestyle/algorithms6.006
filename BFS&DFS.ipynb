{
 "cells": [
  {
   "cell_type": "code",
   "execution_count": 19,
   "metadata": {
    "collapsed": false
   },
   "outputs": [],
   "source": [
    "graph = [[1,2],[2,4],[5],[1,5],[3],[]]"
   ]
  },
  {
   "cell_type": "code",
   "execution_count": 25,
   "metadata": {
    "collapsed": false
   },
   "outputs": [],
   "source": [
    "from collections import deque\n",
    "def BFS(arr, node):\n",
    "    openNode = deque([node])\n",
    "    closedNode = []\n",
    "    while openNode:\n",
    "        if openNode[0] not in closedNode:\n",
    "            print openNode[0],\" \",\n",
    "            openNode.extend(arr[openNode[0]])\n",
    "            closedNode.append(openNode[0])\n",
    "        openNode.popleft()"
   ]
  },
  {
   "cell_type": "code",
   "execution_count": 26,
   "metadata": {
    "collapsed": false
   },
   "outputs": [
    {
     "name": "stdout",
     "output_type": "stream",
     "text": [
      "0   1   2   4   5   3  \n"
     ]
    }
   ],
   "source": [
    "BFS(graph,0)"
   ]
  },
  {
   "cell_type": "code",
   "execution_count": 34,
   "metadata": {
    "collapsed": true
   },
   "outputs": [],
   "source": [
    "def DFS(arr, node):\n",
    "    openNode = [node]\n",
    "    closedNode = []\n",
    "    while openNode:\n",
    "        curr = openNode[0]\n",
    "        openNode.pop(0)\n",
    "        if curr not in closedNode:\n",
    "            print curr,\" \",\n",
    "            openNode = arr[curr] + openNode\n",
    "            closedNode.append(curr)\n",
    "            \n",
    "def DFSdeque(arr, node):\n",
    "    openNode = deque([node])\n",
    "    closedNode = []\n",
    "    while openNode:\n",
    "        curr = openNode[0]\n",
    "        openNode.popleft()\n",
    "        if curr not in closedNode:\n",
    "            print curr,\" \",\n",
    "            openNode.extendleft(arr[curr])\n",
    "            closedNode.append(curr)\n",
    "        "
   ]
  },
  {
   "cell_type": "code",
   "execution_count": 35,
   "metadata": {
    "collapsed": false
   },
   "outputs": [
    {
     "name": "stdout",
     "output_type": "stream",
     "text": [
      "0   1   2   5   4   3  \n"
     ]
    }
   ],
   "source": [
    "DFS(graph,0)"
   ]
  },
  {
   "cell_type": "code",
   "execution_count": null,
   "metadata": {
    "collapsed": true
   },
   "outputs": [],
   "source": []
  }
 ],
 "metadata": {
  "kernelspec": {
   "display_name": "Python 2",
   "language": "python",
   "name": "python2"
  },
  "language_info": {
   "codemirror_mode": {
    "name": "ipython",
    "version": 2
   },
   "file_extension": ".py",
   "mimetype": "text/x-python",
   "name": "python",
   "nbconvert_exporter": "python",
   "pygments_lexer": "ipython2",
   "version": "2.7.12"
  }
 },
 "nbformat": 4,
 "nbformat_minor": 2
}
