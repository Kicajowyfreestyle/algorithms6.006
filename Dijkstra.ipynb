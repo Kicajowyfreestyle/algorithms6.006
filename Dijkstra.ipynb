{
 "cells": [
  {
   "cell_type": "code",
   "execution_count": 45,
   "metadata": {
    "collapsed": true
   },
   "outputs": [],
   "source": [
    "G = {'A': {'D':6, 'C':2}, 'B': {'D':8, 'A':3},\n",
    "   'C': {'D':7, 'E':5}, 'D': {'E':2}, 'E': {}}"
   ]
  },
  {
   "cell_type": "code",
   "execution_count": 48,
   "metadata": {
    "collapsed": false
   },
   "outputs": [],
   "source": [
    "import sys\n",
    "import heapq\n",
    "### Classic Dijkstra shortest paths with min-heap\n",
    "def dijkstra(G, source):\n",
    "    distance = {}\n",
    "    parent = {}\n",
    "    for key in G:\n",
    "        distance[key] = sys.maxint\n",
    "        parent[key] = ''\n",
    "    distance[source] = 0\n",
    "    queue = [source]\n",
    "    \n",
    "    while queue:\n",
    "        x = heapq.heappop(queue)\n",
    "        for node in G[x]:\n",
    "            if distance[node] > distance[x] + G[x][node]:\n",
    "                distance[node] = distance[x] + G[x][node]\n",
    "                parent[node] = x\n",
    "                heapq.heappush(queue, node)\n",
    "    print distance\n",
    "    print parent"
   ]
  },
  {
   "cell_type": "code",
   "execution_count": 50,
   "metadata": {
    "collapsed": false
   },
   "outputs": [
    {
     "name": "stdout",
     "output_type": "stream",
     "text": [
      "{'A': 3, 'C': 5, 'B': 0, 'E': 10, 'D': 8}\n",
      "{'A': 'B', 'C': 'A', 'B': '', 'E': 'C', 'D': 'B'}\n"
     ]
    }
   ],
   "source": [
    "dijkstra(G,'B')"
   ]
  },
  {
   "cell_type": "code",
   "execution_count": null,
   "metadata": {
    "collapsed": true
   },
   "outputs": [],
   "source": []
  }
 ],
 "metadata": {
  "kernelspec": {
   "display_name": "Python 2",
   "language": "python",
   "name": "python2"
  },
  "language_info": {
   "codemirror_mode": {
    "name": "ipython",
    "version": 2
   },
   "file_extension": ".py",
   "mimetype": "text/x-python",
   "name": "python",
   "nbconvert_exporter": "python",
   "pygments_lexer": "ipython2",
   "version": "2.7.12"
  }
 },
 "nbformat": 4,
 "nbformat_minor": 2
}
