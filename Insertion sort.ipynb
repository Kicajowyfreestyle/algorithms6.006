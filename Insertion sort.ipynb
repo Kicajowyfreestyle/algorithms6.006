{
 "cells": [
  {
   "cell_type": "code",
   "execution_count": 1,
   "metadata": {
    "collapsed": false,
    "deletable": true,
    "editable": true
   },
   "outputs": [],
   "source": [
    "### Specialbinary search to get know at which possition num should be inserted into sorted array arr+num\n",
    "def binSearch(arr, num, index):\n",
    "    print arr, num, index\n",
    "    if num<arr[index]:\n",
    "        if index==0:\n",
    "            return 0\n",
    "        else:\n",
    "            return binSearch(arr, num, index/2)\n",
    "    elif num>arr[index+1]:\n",
    "        if index>=len(arr)-2:\n",
    "            return len(arr)-1\n",
    "        else:\n",
    "            return binSearch(arr, num, index+(len(arr)-1-index)/2)\n",
    "    else:\n",
    "        return index+1"
   ]
  },
  {
   "cell_type": "code",
   "execution_count": 2,
   "metadata": {
    "collapsed": true,
    "deletable": true,
    "editable": true
   },
   "outputs": [],
   "source": [
    "def insertionSort(arr):\n",
    "    index = 1\n",
    "    while index<len(arr):\n",
    "        actualElement = arr[index]\n",
    "        newIndex = binSearch(arr[:index+1], arr[index], index/2)\n",
    "        jndex = index-1\n",
    "        while jndex>=newIndex:\n",
    "            arr[jndex+1] = arr[jndex]\n",
    "            jndex = jndex - 1\n",
    "        arr[newIndex] = actualElement\n",
    "        index = index + 1"
   ]
  },
  {
   "cell_type": "code",
   "execution_count": 3,
   "metadata": {
    "collapsed": false,
    "deletable": true,
    "editable": true
   },
   "outputs": [
    {
     "name": "stdout",
     "output_type": "stream",
     "text": [
      "[1, -5] -5 0\n",
      "[-5, 1, 20] 20 1\n",
      "[-5, 1, 20, 7] 7 1\n",
      "[-5, 1, 7, 20, 8] 8 2\n",
      "[-5, 1, 7, 8, 20, -3] -3 2\n",
      "[-5, 1, 7, 8, 20, -3] -3 1\n",
      "[-5, 1, 7, 8, 20, -3] -3 0\n",
      "[-5, -3, 1, 7, 8, 20, 0] 0 3\n",
      "[-5, -3, 1, 7, 8, 20, 0] 0 1\n",
      "[-5, -3, 0, 1, 7, 8, 20]\n"
     ]
    }
   ],
   "source": [
    "arr = [1, -5, 20, 7, 8, -3, 0]\n",
    "insertionSort(arr)\n",
    "print arr"
   ]
  }
 ],
 "metadata": {
  "kernelspec": {
   "display_name": "Python 2",
   "language": "python",
   "name": "python2"
  },
  "language_info": {
   "codemirror_mode": {
    "name": "ipython",
    "version": 2
   },
   "file_extension": ".py",
   "mimetype": "text/x-python",
   "name": "python",
   "nbconvert_exporter": "python",
   "pygments_lexer": "ipython2",
   "version": "2.7.12"
  }
 },
 "nbformat": 4,
 "nbformat_minor": 2
}
