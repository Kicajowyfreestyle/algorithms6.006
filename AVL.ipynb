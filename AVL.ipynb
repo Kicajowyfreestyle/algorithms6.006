{
 "cells": [
  {
   "cell_type": "code",
   "execution_count": 79,
   "metadata": {
    "collapsed": false,
    "deletable": true,
    "editable": true
   },
   "outputs": [],
   "source": [
    "class Node:\n",
    "    value = None\n",
    "    left = None\n",
    "    right = None\n",
    "    \n",
    "    def __init__(self, val):\n",
    "        self.value = val\n",
    "        self.left  = AVL()\n",
    "        self.right = AVL()\n",
    "        \n",
    "class AVL:\n",
    "    node = None\n",
    "    height = None\n",
    "    \n",
    "    def __init__(self):\n",
    "        self.height = -1\n",
    "        \n",
    "    def leftRotation(self):\n",
    "        print \"LEFT\"\n",
    "        A = self.node \n",
    "        B = self.node.right.node \n",
    "        T = B.left.node \n",
    "        \n",
    "        self.node = B \n",
    "        B.left.node = A \n",
    "        A.right.node = T \n",
    "        \n",
    "        self.updateHeight()\n",
    "        self.node.left.updateHeight()\n",
    "    \n",
    "    def rightRotation(self):\n",
    "        print \"RIGHT\"\n",
    "        A = self.node \n",
    "        B = self.node.left.node \n",
    "        T = B.right.node \n",
    "        \n",
    "        self.node = B \n",
    "        B.right.node = A \n",
    "        A.left.node = T \n",
    "        \n",
    "        self.updateHeight()\n",
    "        self.node.right.updateHeight()\n",
    "        \n",
    "\n",
    "    def insert(self, value):\n",
    "        \n",
    "        if self.node is None:\n",
    "            self.node = Node(value)\n",
    "            \n",
    "        if value>self.node.value:\n",
    "            self.node.right.insert(value)\n",
    "        elif value<self.node.value:\n",
    "            self.node.left.insert(value)\n",
    "        \n",
    "        self.updateHeight()\n",
    "        balance = self.balance()\n",
    "        print self.node.value, self.height, balance\n",
    "        \n",
    "        if balance<-1:\n",
    "            if value<self.node.right.node.value:\n",
    "                self.node.right.rightRotation()\n",
    "            self.leftRotation()\n",
    "        print \"MIEDZY BALASAMI\", self.balance()\n",
    "\n",
    "        if balance>1:\n",
    "            if value>self.node.left.node.value:\n",
    "                self.node.left.leftRotation()\n",
    "            self.rightRotation()\n",
    "            \n",
    "    def updateHeight(self):\n",
    "        if self.node:\n",
    "            self.height = max(self.node.left.height, self.node.right.height)+1\n",
    "        else:\n",
    "            self.height = -1\n",
    "            \n",
    "        \n",
    "    def searchFor(self, value):\n",
    "        print \"MOJA: \",self.node.value,\" SZUKANA: \",value\n",
    "        if self.node is None:\n",
    "            return False\n",
    "        if self.node.value == value:\n",
    "            return True\n",
    "        elif value>self.node.value:\n",
    "            return self.node.right.searchFor(value)\n",
    "        elif value<self.node.value:\n",
    "            return self.node.left.searchFor(value)\n",
    "    \n",
    "    def inorderTravelsal(self):\n",
    "        result = []\n",
    "        if self.node:\n",
    "            result.extend(self.node.left.inorderTravelsal())\n",
    "            result.append((self.node.value, self.height))\n",
    "            result.extend(self.node.right.inorderTravelsal())\n",
    "        return result\n",
    "    \n",
    "    def display(self, level=0):\n",
    "        if self.node:\n",
    "            self.node.right.display(level + 1)\n",
    "            print ('\\t' * level), ('    /')\n",
    "\n",
    "            print ('\\t' * level), (self.node.value,self.height)\n",
    "\n",
    "            print ('\\t' * level), ('    \\\\')\n",
    "            self.node.left.display(level + 1)\n",
    "            \n",
    "    def balance(self):\n",
    "        if self.node:\n",
    "            return self.node.left.height-self.node.right.height\n",
    "        else:\n",
    "            return 0\n",
    "                \n",
    "    "
   ]
  },
  {
   "cell_type": "code",
   "execution_count": 80,
   "metadata": {
    "collapsed": false,
    "deletable": true,
    "editable": true
   },
   "outputs": [
    {
     "name": "stdout",
     "output_type": "stream",
     "text": [
      "1 0 0\n",
      "MIEDZY BALASAMI 0\n",
      "5 0 0\n",
      "MIEDZY BALASAMI 0\n",
      "1 1 -1\n",
      "MIEDZY BALASAMI -1\n",
      "-2 0 0\n",
      "MIEDZY BALASAMI 0\n",
      "1 1 0\n",
      "MIEDZY BALASAMI 0\n",
      "8 0 0\n",
      "MIEDZY BALASAMI 0\n",
      "5 1 -1\n",
      "MIEDZY BALASAMI -1\n",
      "1 2 -1\n",
      "MIEDZY BALASAMI -1\n",
      "SEP\n",
      "9 0 0\n",
      "MIEDZY BALASAMI 0\n",
      "8 1 -1\n",
      "MIEDZY BALASAMI -1\n",
      "5 2 -2\n",
      "LEFT\n",
      "MIEDZY BALASAMI 2\n",
      "1 2 -1\n",
      "MIEDZY BALASAMI -1\n"
     ]
    }
   ],
   "source": [
    "a = AVL()\n",
    "a.insert(1)\n",
    "a.insert(5)\n",
    "a.insert(-2)\n",
    "a.insert(8)\n",
    "print \"SEP\"\n",
    "a.insert(9)"
   ]
  },
  {
   "cell_type": "code",
   "execution_count": 81,
   "metadata": {
    "collapsed": false,
    "deletable": true,
    "editable": true
   },
   "outputs": [
    {
     "data": {
      "text/plain": [
       "[(-2, 0), (1, 2), (5, 2), (8, 1), (9, 0)]"
      ]
     },
     "execution_count": 81,
     "metadata": {},
     "output_type": "execute_result"
    }
   ],
   "source": [
    "a.inorderTravelsal()"
   ]
  },
  {
   "cell_type": "code",
   "execution_count": 82,
   "metadata": {
    "collapsed": false,
    "deletable": true,
    "editable": true
   },
   "outputs": [
    {
     "name": "stdout",
     "output_type": "stream",
     "text": [
      "MOJA:  1  SZUKANA:  5\n",
      "MOJA:  8  SZUKANA:  5\n",
      "MOJA:  5  SZUKANA:  5\n",
      "True\n"
     ]
    }
   ],
   "source": [
    "print a.searchFor(5)"
   ]
  },
  {
   "cell_type": "code",
   "execution_count": 83,
   "metadata": {
    "collapsed": false,
    "deletable": true,
    "editable": true
   },
   "outputs": [
    {
     "name": "stdout",
     "output_type": "stream",
     "text": [
      "\t\t    /\n",
      "\t\t(9, 0)\n",
      "\t\t    \\\n",
      "\t    /\n",
      "\t(8, 1)\n",
      "\t    \\\n",
      "\t\t    /\n",
      "\t\t(5, 2)\n",
      "\t\t    \\\n",
      "     /\n",
      " (1, 2)\n",
      "     \\\n",
      "\t    /\n",
      "\t(-2, 0)\n",
      "\t    \\\n"
     ]
    }
   ],
   "source": [
    "a.display()"
   ]
  }
 ],
 "metadata": {
  "kernelspec": {
   "display_name": "Python 2",
   "language": "python",
   "name": "python2"
  },
  "language_info": {
   "codemirror_mode": {
    "name": "ipython",
    "version": 2
   },
   "file_extension": ".py",
   "mimetype": "text/x-python",
   "name": "python",
   "nbconvert_exporter": "python",
   "pygments_lexer": "ipython2",
   "version": "2.7.12"
  }
 },
 "nbformat": 4,
 "nbformat_minor": 2
}
