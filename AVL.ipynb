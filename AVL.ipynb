{
 "cells": [
  {
   "cell_type": "code",
   "execution_count": 154,
   "metadata": {
    "collapsed": false,
    "deletable": true,
    "editable": true
   },
   "outputs": [],
   "source": [
    "class AVL:\n",
    "    value = None\n",
    "    left = None\n",
    "    right = None\n",
    "    height = None\n",
    "    \n",
    "    def __init__(self, value=None):\n",
    "        self.value = value\n",
    "        self.height = 0\n",
    "        \n",
    "    def leftRotation(self):\n",
    "        print \"LEFT\"\n",
    "        A = self\n",
    "        B = self.right\n",
    "        T = B.left\n",
    "        \n",
    "        self = B \n",
    "        B.left = A \n",
    "        A.right = T \n",
    "        \n",
    "        self.updateHeight()\n",
    "        self.left.updateHeight()\n",
    "    \n",
    "    def rightRotation(self):\n",
    "        print \"RIGHT\"\n",
    "        temp = self\n",
    "        temp.left = self.left.right\n",
    "        self = self.left\n",
    "        self.right = temp\n",
    "        \n",
    "        self.updateHeight()\n",
    "        self.right.updateHeight()\n",
    "        \n",
    "\n",
    "    def insert(self, value):\n",
    "        if value>self.value:\n",
    "            if self.right:\n",
    "                self.right.insert(value)\n",
    "            else:\n",
    "                self.right = AVL(value)\n",
    "        elif value<self.value:\n",
    "            if self.left:\n",
    "                self.left.insert(value)\n",
    "            else:\n",
    "                self.left = AVL(value)\n",
    "        \n",
    "        self.updateHeight()\n",
    "        print self.value, self.height, self.balance()\n",
    "        if self.balance()<-1:\n",
    "            if value<self.right.value:\n",
    "                self.right.rightRotation()\n",
    "            self.leftRotation()\n",
    "            \n",
    "        if self.balance()>1:\n",
    "            if value>self.left.value:\n",
    "               self.left.leftRotation()\n",
    "            self.rightRotation()\n",
    "            \n",
    "    def updateHeight(self):\n",
    "        if self.left:\n",
    "            leftHeight = self.left.height\n",
    "        else:\n",
    "            leftHeight = -1\n",
    "            \n",
    "        if self.right:\n",
    "            rightHeight = self.right.height\n",
    "        else:\n",
    "            rightHeight = -1\n",
    "            \n",
    "        self.height = max(leftHeight, rightHeight)+1\n",
    "            \n",
    "        \n",
    "    def searchFor(self, value):\n",
    "        print \"MOJA: \",self.value,\" SZUKANA: \",value\n",
    "        if self.value == value:\n",
    "            return True\n",
    "        elif value>self.value:\n",
    "            if self.right:\n",
    "                print \"P\"\n",
    "                self.right.searchFor(value)\n",
    "            else:\n",
    "                return False\n",
    "        elif value<self.value:\n",
    "            if self.left:\n",
    "                self.left.searchFor(value)\n",
    "            else:\n",
    "                return False\n",
    "    \n",
    "    def inorderTravelsal(self):\n",
    "        result = []\n",
    "        if self.left:\n",
    "            result.extend(self.left.inorderTravelsal())\n",
    "            \n",
    "        result.append((self.value, self.height))\n",
    "        \n",
    "        if self.right:\n",
    "            result.extend(self.right.inorderTravelsal())\n",
    "\n",
    "        return result\n",
    "    \n",
    "    def display(self, level=0):\n",
    "        if self.right:\n",
    "            self.right.display(level + 1)\n",
    "            print ('\\t' * level), ('    /')\n",
    "\n",
    "        print ('\\t' * level), (self.value,self.height)\n",
    "\n",
    "        if self.left:\n",
    "            print ('\\t' * level), ('    \\\\')\n",
    "            self.left.display(level + 1)\n",
    "            \n",
    "    def balance(self):\n",
    "        if self.left and self.right:\n",
    "            return self.left.height - self.right.height\n",
    "        elif self.left:\n",
    "            return self.left.height+1\n",
    "        elif self.right:\n",
    "            return -self.right.height-1\n",
    "        else:\n",
    "            return 0\n",
    "                \n",
    "    "
   ]
  },
  {
   "cell_type": "code",
   "execution_count": 155,
   "metadata": {
    "collapsed": false,
    "deletable": true,
    "editable": true
   },
   "outputs": [
    {
     "name": "stdout",
     "output_type": "stream",
     "text": [
      "1 1 -1\n",
      "1 1 0\n",
      "5 1 -1\n",
      "1 2 -1\n",
      "SEP\n",
      "8 1 -1\n",
      "5 2 -2\n",
      "LEFT\n",
      "1 1 0\n"
     ]
    }
   ],
   "source": [
    "a = AVL(1)\n",
    "a.insert(5)\n",
    "a.insert(-2)\n",
    "a.insert(8)\n",
    "print \"SEP\"\n",
    "a.insert(9)"
   ]
  },
  {
   "cell_type": "code",
   "execution_count": 156,
   "metadata": {
    "collapsed": false,
    "deletable": true,
    "editable": true
   },
   "outputs": [
    {
     "data": {
      "text/plain": [
       "[(-2, 0), (1, 1), (5, 0)]"
      ]
     },
     "execution_count": 156,
     "metadata": {},
     "output_type": "execute_result"
    }
   ],
   "source": [
    "a.inorderTravelsal()"
   ]
  },
  {
   "cell_type": "code",
   "execution_count": 157,
   "metadata": {
    "collapsed": false,
    "deletable": true,
    "editable": true
   },
   "outputs": [
    {
     "name": "stdout",
     "output_type": "stream",
     "text": [
      "MOJA:  1  SZUKANA:  5\n",
      "P\n",
      "MOJA:  5  SZUKANA:  5\n",
      "None\n"
     ]
    }
   ],
   "source": [
    "print a.searchFor(5)"
   ]
  },
  {
   "cell_type": "code",
   "execution_count": 158,
   "metadata": {
    "collapsed": false,
    "deletable": true,
    "editable": true
   },
   "outputs": [
    {
     "data": {
      "text/plain": [
       "5"
      ]
     },
     "execution_count": 158,
     "metadata": {},
     "output_type": "execute_result"
    }
   ],
   "source": [
    "a.right.value"
   ]
  },
  {
   "cell_type": "code",
   "execution_count": 159,
   "metadata": {
    "collapsed": false,
    "deletable": true,
    "editable": true
   },
   "outputs": [
    {
     "name": "stdout",
     "output_type": "stream",
     "text": [
      "\t(5, 0)\n",
      "     /\n",
      " (1, 1)\n",
      "     \\\n",
      "\t(-2, 0)\n"
     ]
    }
   ],
   "source": [
    "a.display()"
   ]
  },
  {
   "cell_type": "code",
   "execution_count": null,
   "metadata": {
    "collapsed": true,
    "deletable": true,
    "editable": true
   },
   "outputs": [],
   "source": []
  },
  {
   "cell_type": "code",
   "execution_count": null,
   "metadata": {
    "collapsed": true
   },
   "outputs": [],
   "source": []
  }
 ],
 "metadata": {
  "kernelspec": {
   "display_name": "Python 2",
   "language": "python",
   "name": "python2"
  },
  "language_info": {
   "codemirror_mode": {
    "name": "ipython",
    "version": 2
   },
   "file_extension": ".py",
   "mimetype": "text/x-python",
   "name": "python",
   "nbconvert_exporter": "python",
   "pygments_lexer": "ipython2",
   "version": "2.7.12"
  }
 },
 "nbformat": 4,
 "nbformat_minor": 2
}
