{
 "cells": [
  {
   "cell_type": "code",
   "execution_count": 66,
   "metadata": {
    "collapsed": false,
    "deletable": true,
    "editable": true
   },
   "outputs": [],
   "source": [
    "class Node:\n",
    "    value = None\n",
    "    left = None\n",
    "    right = None\n",
    "    \n",
    "    def __init__(self, val):\n",
    "        self.value = val\n",
    "        self.left  = AVL()\n",
    "        self.right = AVL()\n",
    "        \n",
    "class AVL:\n",
    "    node = None\n",
    "    height = None\n",
    "    \n",
    "    def __init__(self):\n",
    "        self.height = -1\n",
    "        \n",
    "    def leftRotation(self):\n",
    "        print \"LEFT\"\n",
    "        A = self.node \n",
    "        B = self.node.right.node \n",
    "        T = B.left.node \n",
    "        \n",
    "        self.node = B \n",
    "        B.left.node = A \n",
    "        A.right.node = T \n",
    "        \n",
    "        \n",
    "        #self.node.left.updateHeight()\n",
    "        self.updateHeight()\n",
    "    \n",
    "    def rightRotation(self):\n",
    "        print \"RIGHT\"\n",
    "        A = self.node \n",
    "        B = self.node.left.node \n",
    "        T = B.right.node \n",
    "        \n",
    "        self.node = B \n",
    "        B.right.node = A \n",
    "        A.left.node = T \n",
    "        \n",
    "        self.updateHeight()\n",
    "        #self.node.right.updateHeight()\n",
    "        \n",
    "\n",
    "    def insert(self, value):\n",
    "        \n",
    "        if self.node is None:\n",
    "            self.node = Node(value)\n",
    "            \n",
    "        if value>self.node.value:\n",
    "            self.node.right.insert(value)\n",
    "        elif value<self.node.value:\n",
    "            self.node.left.insert(value)\n",
    "        \n",
    "        self.updateHeight()\n",
    "        balance = self.balance()\n",
    "        print self.node.value, self.height, balance\n",
    "        \n",
    "        if balance<-1:\n",
    "            if value<self.node.right.node.value:\n",
    "                self.node.right.rightRotation()\n",
    "            self.leftRotation()\n",
    "        #print \"MIEDZY BALASAMI\", self.balance()\n",
    "\n",
    "        if balance>1:\n",
    "            if value>self.node.left.node.value:\n",
    "                self.node.left.leftRotation()\n",
    "            self.rightRotation()\n",
    "            \n",
    "    def updateHeight(self):\n",
    "        if self.node:\n",
    "            self.node.left.updateHeight()\n",
    "            self.node.right.updateHeight()\n",
    "            self.height = max(self.node.left.height, self.node.right.height)+1\n",
    "        else:\n",
    "            self.height = -1\n",
    "            \n",
    "        \n",
    "    def searchFor(self, value):\n",
    "        print \"MOJA: \",self.node.value,\" SZUKANA: \",value\n",
    "        if self.node is None:\n",
    "            return False\n",
    "        if self.node.value == value:\n",
    "            return True\n",
    "        elif value>self.node.value:\n",
    "            return self.node.right.searchFor(value)\n",
    "        elif value<self.node.value:\n",
    "            return self.node.left.searchFor(value)\n",
    "    \n",
    "    def inorderTravelsal(self):\n",
    "        result = []\n",
    "        if self.node:\n",
    "            result.extend(self.node.left.inorderTravelsal())\n",
    "            result.append((self.node.value, self.height))\n",
    "            result.extend(self.node.right.inorderTravelsal())\n",
    "        return result\n",
    "    \n",
    "    def display(self, level=0):\n",
    "        if self.node:\n",
    "            self.node.right.display(level + 1)\n",
    "            print ('\\t' * level), ('    /')\n",
    "\n",
    "            print ('\\t' * level), (self.node.value,self.height)\n",
    "\n",
    "            print ('\\t' * level), ('    \\\\')\n",
    "            self.node.left.display(level + 1)\n",
    "            \n",
    "    def balance(self):\n",
    "        if self.node:\n",
    "            return self.node.left.height-self.node.right.height\n",
    "        else:\n",
    "            return 0\n",
    "        \n",
    "    def getMinNodeOfSubtree(self):\n",
    "        if self.node.left.height != -1:\n",
    "            return self.node.left.getMinNodeOfSubtree()\n",
    "        else:\n",
    "            return self.node\n",
    "        \n",
    "    def getMaxNodeOfSubtree(self):\n",
    "        if self.node.right.height != -1:\n",
    "            return self.node.right.getMaxNodeOfSubtree()\n",
    "        else:\n",
    "            return self.node\n",
    "        \n",
    "    def successor(self, value):\n",
    "        if self.node is None:\n",
    "            return None\n",
    "        if self.node.value is value:\n",
    "            if self.node.right.node:\n",
    "                return self.node.right.getMinNodeOfSubtree()\n",
    "                \n",
    "        if self.node.value > value:\n",
    "            return self.node.left.successor(value)\n",
    "        else:\n",
    "            return self.node.right.successor(value)\n",
    "        #return self.node.right.getMinNodeOfSubtree()\n",
    "        \n",
    "    def predcessor(self):\n",
    "        return self.node.left.getMaxNodeOfSubtree()\n",
    "    \n",
    "    def deleteNode(self, value):\n",
    "        if self.node is None:\n",
    "            print \"You're trying to remove something which is not in AVL tree\"\n",
    "            return 0\n",
    "        if value < self.node.value:\n",
    "            self.node.left.deleteNode(value)\n",
    "        elif value > self.node.value:\n",
    "            self.node.right.deleteNode(value)\n",
    "        else:\n",
    "            # there is at most one child\n",
    "            if(self.node.left.node is None or self.node.right.node is None):\n",
    "                # get child\n",
    "                child = self.node.left.node if self.node.left.node else self.node.right.node\n",
    "                # if there is no one, create empty tree in the place of deleted item\n",
    "                if child is None:\n",
    "                    self = AVL()\n",
    "                # if there is one, move cild into parent's place\n",
    "                else:\n",
    "                    self.node = child\n",
    "            # there are 2 children\n",
    "            else:\n",
    "                ## TO BE WRITTEN\n",
    "                return 1\n",
    "        \n",
    "                \n",
    "    "
   ]
  },
  {
   "cell_type": "code",
   "execution_count": 67,
   "metadata": {
    "collapsed": false,
    "deletable": true,
    "editable": true
   },
   "outputs": [
    {
     "name": "stdout",
     "output_type": "stream",
     "text": [
      "1 0 0\n",
      "5 0 0\n",
      "1 1 -1\n",
      "10 0 0\n",
      "5 1 -1\n",
      "1 2 -2\n",
      "LEFT\n",
      "0 0 0\n",
      "1 1 1\n",
      "5 2 1\n",
      "14 0 0\n",
      "10 1 -1\n",
      "5 2 0\n",
      "-2 0 0\n",
      "0 1 1\n",
      "1 2 2\n",
      "RIGHT\n",
      "5 2 0\n",
      "8 0 0\n",
      "10 1 0\n",
      "5 2 0\n",
      "9 0 0\n",
      "8 1 -1\n",
      "10 2 1\n",
      "5 3 -1\n"
     ]
    }
   ],
   "source": [
    "a = AVL()\n",
    "a.insert(1)\n",
    "a.insert(5)\n",
    "a.insert(10)\n",
    "a.insert(0)\n",
    "a.insert(14)\n",
    "a.insert(-2)\n",
    "a.insert(8)\n",
    "# print \"SEP\"\n",
    "a.insert(9)"
   ]
  },
  {
   "cell_type": "code",
   "execution_count": 68,
   "metadata": {
    "collapsed": false,
    "deletable": true,
    "editable": true
   },
   "outputs": [
    {
     "data": {
      "text/plain": [
       "[(-2, 0), (0, 1), (1, 0), (5, 3), (8, 1), (9, 0), (10, 2), (14, 0)]"
      ]
     },
     "execution_count": 68,
     "metadata": {},
     "output_type": "execute_result"
    }
   ],
   "source": [
    "a.inorderTravelsal()"
   ]
  },
  {
   "cell_type": "code",
   "execution_count": 69,
   "metadata": {
    "collapsed": false,
    "deletable": true,
    "editable": true
   },
   "outputs": [
    {
     "name": "stdout",
     "output_type": "stream",
     "text": [
      "MOJA:  5  SZUKANA:  5\n",
      "True\n"
     ]
    }
   ],
   "source": [
    "print a.searchFor(5)"
   ]
  },
  {
   "cell_type": "code",
   "execution_count": 70,
   "metadata": {
    "collapsed": false,
    "deletable": true,
    "editable": true
   },
   "outputs": [
    {
     "name": "stdout",
     "output_type": "stream",
     "text": [
      "\t\t    /\n",
      "\t\t(14, 0)\n",
      "\t\t    \\\n",
      "\t    /\n",
      "\t(10, 2)\n",
      "\t    \\\n",
      "\t\t\t    /\n",
      "\t\t\t(9, 0)\n",
      "\t\t\t    \\\n",
      "\t\t    /\n",
      "\t\t(8, 1)\n",
      "\t\t    \\\n",
      "     /\n",
      " (5, 3)\n",
      "     \\\n",
      "\t\t    /\n",
      "\t\t(1, 0)\n",
      "\t\t    \\\n",
      "\t    /\n",
      "\t(0, 1)\n",
      "\t    \\\n",
      "\t\t    /\n",
      "\t\t(-2, 0)\n",
      "\t\t    \\\n"
     ]
    }
   ],
   "source": [
    "a.display()"
   ]
  },
  {
   "cell_type": "code",
   "execution_count": 75,
   "metadata": {
    "collapsed": false
   },
   "outputs": [
    {
     "ename": "AttributeError",
     "evalue": "'NoneType' object has no attribute 'value'",
     "output_type": "error",
     "traceback": [
      "\u001b[0;31m---------------------------------------------------------------------------\u001b[0m",
      "\u001b[0;31mAttributeError\u001b[0m                            Traceback (most recent call last)",
      "\u001b[0;32m<ipython-input-75-5e43fd44fd9b>\u001b[0m in \u001b[0;36m<module>\u001b[0;34m()\u001b[0m\n\u001b[0;32m----> 1\u001b[0;31m \u001b[0ma\u001b[0m\u001b[0;34m.\u001b[0m\u001b[0msuccessor\u001b[0m\u001b[0;34m(\u001b[0m\u001b[0;36m9\u001b[0m\u001b[0;34m)\u001b[0m\u001b[0;34m.\u001b[0m\u001b[0mvalue\u001b[0m\u001b[0;34m\u001b[0m\u001b[0m\n\u001b[0m",
      "\u001b[0;31mAttributeError\u001b[0m: 'NoneType' object has no attribute 'value'"
     ]
    }
   ],
   "source": [
    "a.successor(9).value"
   ]
  },
  {
   "cell_type": "code",
   "execution_count": null,
   "metadata": {
    "collapsed": true
   },
   "outputs": [],
   "source": []
  }
 ],
 "metadata": {
  "kernelspec": {
   "display_name": "Python 2",
   "language": "python",
   "name": "python2"
  },
  "language_info": {
   "codemirror_mode": {
    "name": "ipython",
    "version": 2
   },
   "file_extension": ".py",
   "mimetype": "text/x-python",
   "name": "python",
   "nbconvert_exporter": "python",
   "pygments_lexer": "ipython2",
   "version": "2.7.12"
  }
 },
 "nbformat": 4,
 "nbformat_minor": 2
}
